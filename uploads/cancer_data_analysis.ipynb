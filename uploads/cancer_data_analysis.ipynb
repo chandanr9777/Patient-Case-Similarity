{
  "nbformat": 4,
  "nbformat_minor": 0,
  "metadata": {
    "colab": {
      "provenance": []
    },
    "kernelspec": {
      "name": "python3",
      "display_name": "Python 3"
    },
    "language_info": {
      "name": "python"
    }
  },
  "cells": [
    {
      "cell_type": "code",
      "execution_count": null,
      "metadata": {
        "colab": {
          "base_uri": "https://localhost:8080/"
        },
        "id": "UmPn7JudSmRr",
        "outputId": "fddbe0e2-f704-48f2-ce1e-866aec1c408a"
      },
      "outputs": [
        {
          "output_type": "stream",
          "name": "stdout",
          "text": [
            "Drive already mounted at /content/drive; to attempt to forcibly remount, call drive.mount(\"/content/drive\", force_remount=True).\n"
          ]
        }
      ],
      "source": [
        "from google.colab import drive\n",
        "drive.mount(\"/content/drive\")"
      ]
    },
    {
      "cell_type": "code",
      "source": [
        "import pandas as pd\n",
        "data=pd.read_csv(\"/content/drive/MyDrive/cancer_diagnosis_data.csv\")\n",
        "print(data.head())\n",
        "print(data.info())\n",
        "print(data)"
      ],
      "metadata": {
        "id": "_ZqGgLU3SuVv",
        "colab": {
          "base_uri": "https://localhost:8080/"
        },
        "outputId": "be35716c-2632-402e-bf99-a1fe8ef44972"
      },
      "execution_count": null,
      "outputs": [
        {
          "output_type": "stream",
          "name": "stdout",
          "text": [
            "                             Patient_ID  Age  Gender  Tumor_Size(cm)  \\\n",
            "0  c044501a-43ca-4a0c-8b8b-991439ba1b6a   52  Female            5.08   \n",
            "1  b8900c4c-1232-4084-9432-5d02eba74d20   32  Female            0.80   \n",
            "2  3004e2bc-8037-49cb-a542-d5612b73beab   70  Female            9.56   \n",
            "3  1df86af7-6745-4dea-b127-cbc9915079fc   21  Female            3.07   \n",
            "4  128e00c3-72e3-4031-a7f4-1165d7199cce   62    Male            7.17   \n",
            "\n",
            "  Tumor_Type Biopsy_Result          Treatment Response_to_Treatment  \\\n",
            "0     Benign      Positive            Surgery           No Response   \n",
            "1     Benign      Negative            Surgery     Complete Response   \n",
            "2     Benign      Positive  Radiation Therapy     Complete Response   \n",
            "3  Malignant      Negative            Surgery      Partial Response   \n",
            "4  Malignant      Positive  Radiation Therapy     Complete Response   \n",
            "\n",
            "  Survival_Status  \n",
            "0        Survived  \n",
            "1        Survived  \n",
            "2        Deceased  \n",
            "3        Survived  \n",
            "4        Deceased  \n",
            "<class 'pandas.core.frame.DataFrame'>\n",
            "RangeIndex: 20000 entries, 0 to 19999\n",
            "Data columns (total 9 columns):\n",
            " #   Column                 Non-Null Count  Dtype  \n",
            "---  ------                 --------------  -----  \n",
            " 0   Patient_ID             20000 non-null  object \n",
            " 1   Age                    20000 non-null  int64  \n",
            " 2   Gender                 20000 non-null  object \n",
            " 3   Tumor_Size(cm)         20000 non-null  float64\n",
            " 4   Tumor_Type             20000 non-null  object \n",
            " 5   Biopsy_Result          20000 non-null  object \n",
            " 6   Treatment              20000 non-null  object \n",
            " 7   Response_to_Treatment  20000 non-null  object \n",
            " 8   Survival_Status        20000 non-null  object \n",
            "dtypes: float64(1), int64(1), object(7)\n",
            "memory usage: 1.4+ MB\n",
            "None\n",
            "                                 Patient_ID  Age  Gender  Tumor_Size(cm)  \\\n",
            "0      c044501a-43ca-4a0c-8b8b-991439ba1b6a   52  Female            5.08   \n",
            "1      b8900c4c-1232-4084-9432-5d02eba74d20   32  Female            0.80   \n",
            "2      3004e2bc-8037-49cb-a542-d5612b73beab   70  Female            9.56   \n",
            "3      1df86af7-6745-4dea-b127-cbc9915079fc   21  Female            3.07   \n",
            "4      128e00c3-72e3-4031-a7f4-1165d7199cce   62    Male            7.17   \n",
            "...                                     ...  ...     ...             ...   \n",
            "19995  863e873e-2934-4514-94e1-a2ce6429dddd   71  Female            8.99   \n",
            "19996  854c96f3-39eb-40bb-b50d-0640a356549a   35    Male            4.25   \n",
            "19997  8c1f285d-48bf-4cfa-9a89-da083b7943f2   56  Female            6.43   \n",
            "19998  c6dc70ee-4dcd-41e6-aae6-043923cb12c0   39  Female            6.08   \n",
            "19999  7af66d60-f88e-45f4-b1eb-5950f67441a4   62  Female            7.46   \n",
            "\n",
            "      Tumor_Type Biopsy_Result          Treatment Response_to_Treatment  \\\n",
            "0         Benign      Positive            Surgery           No Response   \n",
            "1         Benign      Negative            Surgery     Complete Response   \n",
            "2         Benign      Positive  Radiation Therapy     Complete Response   \n",
            "3      Malignant      Negative            Surgery      Partial Response   \n",
            "4      Malignant      Positive  Radiation Therapy     Complete Response   \n",
            "...          ...           ...                ...                   ...   \n",
            "19995     Benign      Negative  Radiation Therapy      Partial Response   \n",
            "19996     Benign      Negative       Chemotherapy     Complete Response   \n",
            "19997     Benign      Negative  Radiation Therapy      Partial Response   \n",
            "19998  Malignant      Negative  Radiation Therapy           No Response   \n",
            "19999  Malignant      Positive       Chemotherapy     Complete Response   \n",
            "\n",
            "      Survival_Status  \n",
            "0            Survived  \n",
            "1            Survived  \n",
            "2            Deceased  \n",
            "3            Survived  \n",
            "4            Deceased  \n",
            "...               ...  \n",
            "19995        Deceased  \n",
            "19996        Survived  \n",
            "19997        Survived  \n",
            "19998        Survived  \n",
            "19999        Survived  \n",
            "\n",
            "[20000 rows x 9 columns]\n"
          ]
        }
      ]
    },
    {
      "cell_type": "code",
      "source": [
        "import pandas as pd\n",
        "from sklearn.model_selection import train_test_split\n",
        "from sklearn.preprocessing import StandardScaler\n",
        "from sklearn.decomposition import PCA\n",
        "from sklearn.neighbors import NearestNeighbors\n",
        "import matplotlib.pyplot as plt\n",
        "\n",
        "# Load dataset\n",
        "file_path = '/content/drive/MyDrive/cancer_diagnosis_data.csv'\n",
        "data = pd.read_csv(file_path)\n",
        "\n",
        "# Assuming the dataset has a target column named 'diagnosis'\n",
        "if 'diagnosis' in data.columns:\n",
        "    X = data.drop(['diagnosis'], axis=1)  # Features\n",
        "    y = data['diagnosis']  # Target\n",
        "else:\n",
        "    X = data\n",
        "    y = None\n",
        "\n",
        "# Drop non-numeric columns\n",
        "non_numeric_cols = X.select_dtypes(include=['object']).columns\n",
        "X = X.drop(non_numeric_cols, axis=1)\n",
        "\n",
        "# Split into training and testing sets if there’s a target variable\n",
        "if y is not None:\n",
        "    X_train, X_test, y_train, y_test = train_test_split(X, y, test_size=0.2, random_state=42)\n",
        "else:\n",
        "    X_train, X_test = train_test_split(X, test_size=0.2, random_state=42)\n",
        "\n",
        "# Standardize features\n",
        "scaler = StandardScaler()\n",
        "X_train = scaler.fit_transform(X_train)\n",
        "X_test = scaler.transform(X_test)\n",
        "\n",
        "# Dimensionality reduction with PCA\n",
        "pca = PCA(n_components=0.95)  # Adjust n_components based on dataset size\n",
        "X_train_pca = pca.fit_transform(X_train)\n",
        "X_test_pca = pca.transform(X_test)\n",
        "\n",
        "print(\"Explained Variance Ratio:\", pca.explained_variance_ratio_)\n",
        "print(\"Number of components:\", pca.n_components_)\n",
        "\n",
        "# Fit KNN model for finding similar patients\n",
        "knn_model = NearestNeighbors(n_neighbors=5, metric='cosine')\n",
        "knn_model.fit(X_train_pca)\n",
        "\n",
        "# Function to find similar patients\n",
        "def find_similar_patients(patient_data, model, pca_model):\n",
        "    patient_data_scaled = scaler.transform([patient_data])\n",
        "    patient_data_pca = pca_model.transform(patient_data_scaled)\n",
        "    distances, indices = model.kneighbors(patient_data_pca)\n",
        "    return indices[0], distances[0]\n",
        "\n",
        "# Test with a sample patient from test data\n",
        "sample_patient = X_test[0]  # Replace this with specific patient data if needed\n",
        "similar_indices, similar_distances = find_similar_patients(sample_patient, knn_model, pca)\n",
        "print(\"Similar Patient Indices:\", similar_indices)\n",
        "print(\"Similarity Distances:\", similar_distances)\n",
        "\n",
        "# Optional: Visualization of PCA-reduced data\n",
        "plt.scatter(X_train_pca[:, 0], X_train_pca[:, 1], c=y_train if y is not None else 'b', alpha=0.5)\n",
        "plt.title(\"PCA Projection of Patients\")\n",
        "plt.xlabel(\"Principal Component 1\")\n",
        "plt.ylabel(\"Principal Component 2\")\n",
        "plt.colorbar(label=\"Diagnosis\" if y is not None else \"\")\n",
        "plt.show()\n"
      ],
      "metadata": {
        "colab": {
          "base_uri": "https://localhost:8080/",
          "height": 599
        },
        "id": "9uDsoIoo3SOu",
        "outputId": "f7a44eb3-5ddc-4d6e-84df-dbebc4c044c3"
      },
      "execution_count": null,
      "outputs": [
        {
          "output_type": "stream",
          "name": "stdout",
          "text": [
            "Explained Variance Ratio: [0.50219614 0.49780386]\n",
            "Number of components: 2\n",
            "Similar Patient Indices: [  772  9836 12755 11492 14986]\n",
            "Similarity Distances: [1.99820928e-08 1.72149192e-07 1.76435523e-07 1.76435523e-07\n",
            " 2.48760230e-07]\n"
          ]
        },
        {
          "output_type": "stream",
          "name": "stderr",
          "text": [
            "/usr/local/lib/python3.10/dist-packages/sklearn/base.py:493: UserWarning: X does not have valid feature names, but StandardScaler was fitted with feature names\n",
            "  warnings.warn(\n"
          ]
        },
        {
          "output_type": "display_data",
          "data": {
            "text/plain": [
              "<Figure size 640x480 with 2 Axes>"
            ],
            "image/png": "[encoded data removed]"
          },
          "metadata": {}
        }
      ]
    }
  ]
}